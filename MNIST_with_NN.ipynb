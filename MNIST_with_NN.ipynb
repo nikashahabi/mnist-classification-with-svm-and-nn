{
  "cells": [
    {
      "cell_type": "markdown",
      "metadata": {
        "id": "67wQr89dFPeo"
      },
      "source": [
        "# Importing MNIST dataset and getting insights\n"
      ]
    },
    {
      "cell_type": "code",
      "execution_count": null,
      "metadata": {
        "colab": {
          "base_uri": "https://localhost:8080/"
        },
        "id": "FSCoFGl-Fct8",
        "outputId": "effcb8a0-4c8b-454a-b3fd-adf190b557d8"
      },
      "outputs": [
        {
          "output_type": "stream",
          "name": "stdout",
          "text": [
            "Downloading data from https://storage.googleapis.com/tensorflow/tf-keras-datasets/mnist.npz\n",
            "11493376/11490434 [==============================] - 0s 0us/step\n",
            "11501568/11490434 [==============================] - 0s 0us/step\n"
          ]
        }
      ],
      "source": [
        "from keras.datasets import mnist\n",
        "(x_train, y_train), (x_test, y_test) = mnist.load_data()"
      ]
    },
    {
      "cell_type": "code",
      "execution_count": null,
      "metadata": {
        "colab": {
          "base_uri": "https://localhost:8080/"
        },
        "id": "5xmROa07Gu6v",
        "outputId": "08d8209b-feea-4da9-d4f1-c98f98b703f2"
      },
      "outputs": [
        {
          "output_type": "execute_result",
          "data": {
            "text/plain": [
              "(60000, 28, 28)"
            ]
          },
          "metadata": {},
          "execution_count": 3
        }
      ],
      "source": [
        "x_train.shape"
      ]
    },
    {
      "cell_type": "code",
      "execution_count": null,
      "metadata": {
        "colab": {
          "base_uri": "https://localhost:8080/"
        },
        "id": "aR1f8JDtG0gx",
        "outputId": "4400fe84-2204-42bb-dddd-4c600233f6e8"
      },
      "outputs": [
        {
          "output_type": "execute_result",
          "data": {
            "text/plain": [
              "(60000,)"
            ]
          },
          "metadata": {},
          "execution_count": 4
        }
      ],
      "source": [
        "y_train.shape"
      ]
    },
    {
      "cell_type": "code",
      "execution_count": null,
      "metadata": {
        "colab": {
          "base_uri": "https://localhost:8080/"
        },
        "id": "aMSnLsieG5qP",
        "outputId": "a12dfeb0-9f76-4039-f46b-3eddfbec33b5"
      },
      "outputs": [
        {
          "output_type": "execute_result",
          "data": {
            "text/plain": [
              "(28, 28)"
            ]
          },
          "metadata": {},
          "execution_count": 5
        }
      ],
      "source": [
        "x_train[0].shape"
      ]
    },
    {
      "cell_type": "code",
      "execution_count": null,
      "metadata": {
        "colab": {
          "base_uri": "https://localhost:8080/"
        },
        "id": "7FYz0r4GHG0j",
        "outputId": "bc8a45b8-c9ed-4917-cf04-32911597a323"
      },
      "outputs": [
        {
          "output_type": "execute_result",
          "data": {
            "text/plain": [
              "()"
            ]
          },
          "metadata": {},
          "execution_count": 6
        }
      ],
      "source": [
        "y_train[0].shape"
      ]
    },
    {
      "cell_type": "code",
      "execution_count": null,
      "metadata": {
        "colab": {
          "base_uri": "https://localhost:8080/"
        },
        "id": "8nMOWZfuHLMw",
        "outputId": "9eee01f1-e5f9-454d-a9d9-e06e1d6f88d5"
      },
      "outputs": [
        {
          "output_type": "execute_result",
          "data": {
            "text/plain": [
              "(10000, 28, 28)"
            ]
          },
          "metadata": {},
          "execution_count": 7
        }
      ],
      "source": [
        "x_test.shape\n"
      ]
    },
    {
      "cell_type": "markdown",
      "metadata": {
        "id": "NhQ1OqdSHElP"
      },
      "source": [
        "We have 60000 training examples, 10000 test examples and each data point is a 28 * 28 vector of a handwritten digit."
      ]
    },
    {
      "cell_type": "code",
      "execution_count": null,
      "metadata": {
        "colab": {
          "base_uri": "https://localhost:8080/",
          "height": 282
        },
        "id": "GVMpQm5UHAF3",
        "outputId": "3062d27f-bc1f-4525-f5b4-977c95c0f564"
      },
      "outputs": [
        {
          "output_type": "display_data",
          "data": {
            "text/plain": [
              "<Figure size 432x288 with 1 Axes>"
            ],
            "image/png": "[encoded data removed]"
          },
          "metadata": {
            "needs_background": "light"
          }
        },
        {
          "output_type": "stream",
          "name": "stdout",
          "text": [
            "this handwritten digit is 5\n"
          ]
        }
      ],
      "source": [
        "%matplotlib inline \n",
        "from matplotlib import pyplot as plt\n",
        "data = x_train[0]\n",
        "plt.imshow(data, interpolation='nearest')\n",
        "plt.show()\n",
        "print(\"this handwritten digit is\", y_train[0])"
      ]
    },
    {
      "cell_type": "markdown",
      "metadata": {
        "id": "3BBbTr3VLkBU"
      },
      "source": [
        "# Training a fully connected deep neural network"
      ]
    },
    {
      "cell_type": "markdown",
      "metadata": {
        "id": "KfG-B1gjLwX9"
      },
      "source": [
        "We first need to flatten the images (2d matrixes) to use a basic fully connected network."
      ]
    },
    {
      "cell_type": "code",
      "execution_count": null,
      "metadata": {
        "id": "XCBD0Q0lIBWK"
      },
      "outputs": [],
      "source": [
        "# Flatten the images\n",
        "image_vector_size = 28*28\n",
        "x_train = x_train.reshape(x_train.shape[0], image_vector_size)\n",
        "x_test = x_test.reshape(x_test.shape[0], image_vector_size)"
      ]
    },
    {
      "cell_type": "markdown",
      "source": [
        "Since the classes of the data points are categorical and not ordinal we need to convert them to ordinal values. (class 3 !> 1) "
      ],
      "metadata": {
        "id": "iqcDSD-K5KUc"
      }
    },
    {
      "cell_type": "code",
      "execution_count": null,
      "metadata": {
        "id": "ghOkMxjaHvVn"
      },
      "outputs": [],
      "source": [
        "import tensorflow as tf\n",
        "num_classes = 10\n",
        "y_train = tf.keras.utils.to_categorical(y_train, num_classes)\n",
        "y_test =  tf.keras.utils.to_categorical(y_test, num_classes)"
      ]
    },
    {
      "cell_type": "markdown",
      "source": [
        "## Neural Network Architecture"
      ],
      "metadata": {
        "id": "5fyFLfzK5uq_"
      }
    },
    {
      "cell_type": "markdown",
      "source": [
        "Since the input vectors are 28X28 we have 28X28 nodes in input layer.\n",
        "\n",
        "Since we have one hot encoded vectors as output and they are of dimension 10*1 we have 10 output nodes.\n",
        "\n",
        "We use SGD as optimizer.\n",
        "\n",
        "Since we are facing a classification task and data points belong to each class with a probability p we use categorical cross entropy.\n",
        "\n",
        "We use softmax activation function for the last layer since all the output values are between 0 and 1 and the sum of all ten values is equal to 1.\n",
        "\n",
        "\n",
        "Each data point is associated with the class that has the most probability in the one hot encoded vector.\n"
      ],
      "metadata": {
        "id": "q3jV1Ygv5zuK"
      }
    },
    {
      "cell_type": "code",
      "source": [
        "from keras.layers import Dense # fully connected layers\n",
        "from keras.models import Sequential\n",
        "\n",
        "image_size = 784 # 28*28\n",
        "num_classes = 10 # ten unique digits\n"
      ],
      "metadata": {
        "id": "lZ9-A9hu5rRB"
      },
      "execution_count": null,
      "outputs": []
    },
    {
      "cell_type": "markdown",
      "source": [
        "We build and train severral NN with different depths.\n",
        "\n",
        "All the hidden layers have 32 nodes.\n",
        "\n",
        "All the hidden layers have softmax as their activation.\n",
        "\n",
        "Training set is split into training set and validation set. \n",
        "\n",
        "Training set size = 0.9 X 60000\n",
        "\n",
        "Test set size = 0.1 X 60000\n",
        "\n",
        "default batch size is 128; meaning that 128 samples from the training set are used everytime for forward and backward propogation."
      ],
      "metadata": {
        "id": "tovcbErc7ALq"
      }
    },
    {
      "cell_type": "code",
      "source": [
        "def create_dense(layer_sizes):\n",
        "    model = Sequential()\n",
        "    model.add(Dense(layer_sizes[0], activation='sigmoid', input_shape=(image_size,)))\n",
        "\n",
        "    for s in layer_sizes[1:]:\n",
        "        model.add(Dense(units = s, activation = 'sigmoid'))\n",
        "\n",
        "    model.add(Dense(units=num_classes, activation='softmax'))\n",
        "    return model\n",
        "\n",
        "def evaluate(model, batch_size=128, epochs=20):\n",
        "    model.summary()\n",
        "    model.compile(optimizer='sgd', loss='categorical_crossentropy', metrics=['accuracy'])\n",
        "    history = model.fit(x_train, y_train, batch_size=batch_size, epochs=epochs, validation_split=.1, verbose=False)\n",
        "    loss, accuracy  = model.evaluate(x_test, y_test, verbose=False)\n",
        "    \n",
        "    plt.plot(history.history['accuracy'])\n",
        "    plt.plot(history.history['val_accuracy'])\n",
        "    plt.title('model accuracy')\n",
        "    plt.ylabel('accuracy')\n",
        "    plt.xlabel('epoch')\n",
        "    plt.legend(['training', 'validation'], loc='best')\n",
        "    plt.show()\n",
        "\n",
        "    print()\n",
        "    print(f'Test loss: {loss:.3}')\n",
        "    print(f'Test accuracy: {accuracy:.3}')"
      ],
      "metadata": {
        "id": "SjQ7UTJ46_lB"
      },
      "execution_count": null,
      "outputs": []
    },
    {
      "cell_type": "code",
      "source": [
        "for layers in range(1, 4):\n",
        "    model = create_dense([32] * layers)\n",
        "    evaluate(model)"
      ],
      "metadata": {
        "colab": {
          "base_uri": "https://localhost:8080/",
          "height": 1000
        },
        "id": "q5NcKdS77hQA",
        "outputId": "01fbdefa-4b74-4bb4-c606-360c43418814"
      },
      "execution_count": null,
      "outputs": [
        {
          "output_type": "stream",
          "name": "stdout",
          "text": [
            "Model: \"sequential\"\n",
            "_________________________________________________________________\n",
            " Layer (type)                Output Shape              Param #   \n",
            "=================================================================\n",
            " dense (Dense)               (None, 32)                25120     \n",
            "                                                                 \n",
            " dense_1 (Dense)             (None, 10)                330       \n",
            "                                                                 \n",
            "=================================================================\n",
            "Total params: 25,450\n",
            "Trainable params: 25,450\n",
            "Non-trainable params: 0\n",
            "_________________________________________________________________\n"
          ]
        },
        {
          "output_type": "display_data",
          "data": {
            "text/plain": [
              "<Figure size 432x288 with 1 Axes>"
            ],
            "image/png": "[encoded data removed]"
          },
          "metadata": {
            "needs_background": "light"
          }
        },
        {
          "output_type": "stream",
          "name": "stdout",
          "text": [
            "\n",
            "Test loss: 0.29\n",
            "Test accuracy: 0.92\n",
            "Model: \"sequential_1\"\n",
            "_________________________________________________________________\n",
            " Layer (type)                Output Shape              Param #   \n",
            "=================================================================\n",
            " dense_2 (Dense)             (None, 32)                25120     \n",
            "                                                                 \n",
            " dense_3 (Dense)             (None, 32)                1056      \n",
            "                                                                 \n",
            " dense_4 (Dense)             (None, 10)                330       \n",
            "                                                                 \n",
            "=================================================================\n",
            "Total params: 26,506\n",
            "Trainable params: 26,506\n",
            "Non-trainable params: 0\n",
            "_________________________________________________________________\n"
          ]
        },
        {
          "output_type": "display_data",
          "data": {
            "text/plain": [
              "<Figure size 432x288 with 1 Axes>"
            ],
            "image/png": "[encoded data removed]"
          },
          "metadata": {
            "needs_background": "light"
          }
        },
        {
          "output_type": "stream",
          "name": "stdout",
          "text": [
            "\n",
            "Test loss: 0.415\n",
            "Test accuracy: 0.9\n",
            "Model: \"sequential_2\"\n",
            "_________________________________________________________________\n",
            " Layer (type)                Output Shape              Param #   \n",
            "=================================================================\n",
            " dense_5 (Dense)             (None, 32)                25120     \n",
            "                                                                 \n",
            " dense_6 (Dense)             (None, 32)                1056      \n",
            "                                                                 \n",
            " dense_7 (Dense)             (None, 32)                1056      \n",
            "                                                                 \n",
            " dense_8 (Dense)             (None, 10)                330       \n",
            "                                                                 \n",
            "=================================================================\n",
            "Total params: 27,562\n",
            "Trainable params: 27,562\n",
            "Non-trainable params: 0\n",
            "_________________________________________________________________\n"
          ]
        },
        {
          "output_type": "display_data",
          "data": {
            "text/plain": [
              "<Figure size 432x288 with 1 Axes>"
            ],
            "image/png": "[encoded data removed]"
          },
          "metadata": {
            "needs_background": "light"
          }
        },
        {
          "output_type": "stream",
          "name": "stdout",
          "text": [
            "\n",
            "Test loss: 1.06\n",
            "Test accuracy: 0.763\n"
          ]
        }
      ]
    },
    {
      "cell_type": "code",
      "source": [
        "for layers in range(1, 4):\n",
        "    model = create_dense([32] * layers)\n",
        "    evaluate(model, epochs = 10)"
      ],
      "metadata": {
        "colab": {
          "base_uri": "https://localhost:8080/",
          "height": 1000
        },
        "id": "uaHLrMaF-9xr",
        "outputId": "27b5fc5c-5378-4c49-99ab-167eaceed17c"
      },
      "execution_count": null,
      "outputs": [
        {
          "output_type": "stream",
          "name": "stdout",
          "text": [
            "Model: \"sequential_3\"\n",
            "_________________________________________________________________\n",
            " Layer (type)                Output Shape              Param #   \n",
            "=================================================================\n",
            " dense_9 (Dense)             (None, 32)                25120     \n",
            "                                                                 \n",
            " dense_10 (Dense)            (None, 10)                330       \n",
            "                                                                 \n",
            "=================================================================\n",
            "Total params: 25,450\n",
            "Trainable params: 25,450\n",
            "Non-trainable params: 0\n",
            "_________________________________________________________________\n"
          ]
        },
        {
          "output_type": "display_data",
          "data": {
            "text/plain": [
              "<Figure size 432x288 with 1 Axes>"
            ],
            "image/png": "[encoded data removed]"
          },
          "metadata": {
            "needs_background": "light"
          }
        },
        {
          "output_type": "stream",
          "name": "stdout",
          "text": [
            "\n",
            "Test loss: 0.37\n",
            "Test accuracy: 0.909\n",
            "Model: \"sequential_4\"\n",
            "_________________________________________________________________\n",
            " Layer (type)                Output Shape              Param #   \n",
            "=================================================================\n",
            " dense_11 (Dense)            (None, 32)                25120     \n",
            "                                                                 \n",
            " dense_12 (Dense)            (None, 32)                1056      \n",
            "                                                                 \n",
            " dense_13 (Dense)            (None, 10)                330       \n",
            "                                                                 \n",
            "=================================================================\n",
            "Total params: 26,506\n",
            "Trainable params: 26,506\n",
            "Non-trainable params: 0\n",
            "_________________________________________________________________\n"
          ]
        },
        {
          "output_type": "display_data",
          "data": {
            "text/plain": [
              "<Figure size 432x288 with 1 Axes>"
            ],
            "image/png": "[encoded data removed]"
          },
          "metadata": {
            "needs_background": "light"
          }
        },
        {
          "output_type": "stream",
          "name": "stdout",
          "text": [
            "\n",
            "Test loss: 0.683\n",
            "Test accuracy: 0.864\n",
            "Model: \"sequential_5\"\n",
            "_________________________________________________________________\n",
            " Layer (type)                Output Shape              Param #   \n",
            "=================================================================\n",
            " dense_14 (Dense)            (None, 32)                25120     \n",
            "                                                                 \n",
            " dense_15 (Dense)            (None, 32)                1056      \n",
            "                                                                 \n",
            " dense_16 (Dense)            (None, 32)                1056      \n",
            "                                                                 \n",
            " dense_17 (Dense)            (None, 10)                330       \n",
            "                                                                 \n",
            "=================================================================\n",
            "Total params: 27,562\n",
            "Trainable params: 27,562\n",
            "Non-trainable params: 0\n",
            "_________________________________________________________________\n"
          ]
        },
        {
          "output_type": "display_data",
          "data": {
            "text/plain": [
              "<Figure size 432x288 with 1 Axes>"
            ],
            "image/png": "[encoded data removed]"
          },
          "metadata": {
            "needs_background": "light"
          }
        },
        {
          "output_type": "stream",
          "name": "stdout",
          "text": [
            "\n",
            "Test loss: 1.88\n",
            "Test accuracy: 0.511\n"
          ]
        }
      ]
    },
    {
      "cell_type": "code",
      "source": [
        "model = create_dense([32] * 3)\n",
        "evaluate(model, epochs = 50)"
      ],
      "metadata": {
        "colab": {
          "base_uri": "https://localhost:8080/",
          "height": 635
        },
        "id": "rMH9Gc7C_swU",
        "outputId": "6e2907f2-256b-4faa-da77-131f0ae97238"
      },
      "execution_count": null,
      "outputs": [
        {
          "output_type": "stream",
          "name": "stdout",
          "text": [
            "Model: \"sequential_6\"\n",
            "_________________________________________________________________\n",
            " Layer (type)                Output Shape              Param #   \n",
            "=================================================================\n",
            " dense_18 (Dense)            (None, 32)                25120     \n",
            "                                                                 \n",
            " dense_19 (Dense)            (None, 32)                1056      \n",
            "                                                                 \n",
            " dense_20 (Dense)            (None, 32)                1056      \n",
            "                                                                 \n",
            " dense_21 (Dense)            (None, 10)                330       \n",
            "                                                                 \n",
            "=================================================================\n",
            "Total params: 27,562\n",
            "Trainable params: 27,562\n",
            "Non-trainable params: 0\n",
            "_________________________________________________________________\n"
          ]
        },
        {
          "output_type": "display_data",
          "data": {
            "text/plain": [
              "<Figure size 432x288 with 1 Axes>"
            ],
            "image/png": "[encoded data removed]"
          },
          "metadata": {
            "needs_background": "light"
          }
        },
        {
          "output_type": "stream",
          "name": "stdout",
          "text": [
            "\n",
            "Test loss: 0.396\n",
            "Test accuracy: 0.898\n"
          ]
        }
      ]
    },
    {
      "cell_type": "markdown",
      "source": [
        "# Training a CNN"
      ],
      "metadata": {
        "id": "MMaqw89hA_fG"
      }
    },
    {
      "cell_type": "code",
      "source": [
        "from keras.datasets import mnist\n",
        "import numpy as np\n",
        "(xtrain,ytrain),(xtest,ytest)=mnist.load_data()\n",
        "# reshaping\n",
        "xtrain=np.reshape(xtrain,(-1,28,28,1))\n",
        "xtest=np.reshape(xtest,(-1,28,28,1))\n",
        "xtrain.shape,xtest.shape,ytrain.shape,ytest.shape\n",
        "#normalising\n",
        "xtrain=xtrain/255\n",
        "xtest=xtest/255\n",
        "#implementing one hot encoding\n",
        "from keras.utils.np_utils import to_categorical\n",
        "y_train = to_categorical(ytrain, num_classes=10)\n",
        "y_test = to_categorical(ytest, num_classes=10)\n",
        "#importing the model\n",
        "from keras.models import Sequential\n",
        "#creating model object\n",
        "model=Sequential()"
      ],
      "metadata": {
        "id": "RAOC7N29A-sS"
      },
      "execution_count": null,
      "outputs": []
    },
    {
      "cell_type": "code",
      "source": [
        "#importing layers\n",
        "from keras.layers import Conv2D,MaxPooling2D,Flatten,Dense,Dropout"
      ],
      "metadata": {
        "id": "8Oz8OCRMFWuj"
      },
      "execution_count": null,
      "outputs": []
    },
    {
      "cell_type": "markdown",
      "source": [
        "معمولا معماری‌های این مدل شبکه عصبی ها اول یک سری لایه ی \n",
        "\n",
        "convolution \n",
        "\n",
        "دارند \n",
        "\n",
        "بعد آن یک سری \n",
        "\n",
        "pooling \n",
        "\n",
        "و در آخر\n",
        "\n",
        "fully connected layers.\n",
        "\n",
        "همین کار را که در\n",
        "\n",
        "practice \n",
        "\n",
        "قبلا جواب گرفته است را انجام میدهیم.\n"
      ],
      "metadata": {
        "id": "AkcCKdC6FecT"
      }
    },
    {
      "cell_type": "code",
      "source": [
        "#adding layers and forming the model\n",
        "model.add(Conv2D(32,kernel_size=5,strides=1,padding=\"Same\",activation=\"relu\",input_shape=(28,28,1)))\n",
        "model.add(MaxPooling2D(padding=\"same\"))\n",
        "\n",
        "model.add(Conv2D(64,kernel_size=5,strides=1,padding=\"same\",activation=\"relu\"))\n",
        "model.add(MaxPooling2D(padding=\"same\"))\n",
        "\n",
        "model.add(Flatten())\n",
        "\n",
        "model.add(Dense(1024,activation=\"relu\"))\n",
        "model.add(Dropout(0.2))\n",
        "model.add(Dense(10,activation=\"sigmoid\"))\n",
        "\n"
      ],
      "metadata": {
        "id": "NOSTPS3WCDtA"
      },
      "execution_count": null,
      "outputs": []
    },
    {
      "cell_type": "code",
      "source": [
        "#compiling\n",
        "model.compile(optimizer=\"adam\",loss=\"categorical_crossentropy\",metrics=[\"accuracy\"])"
      ],
      "metadata": {
        "id": "1oB4gXCuGIZg"
      },
      "execution_count": null,
      "outputs": []
    },
    {
      "cell_type": "code",
      "source": [
        "#training the model\n",
        "model.fit(xtrain,y_train,batch_size=100,epochs=5,validation_data=(xtest,y_test))"
      ],
      "metadata": {
        "colab": {
          "base_uri": "https://localhost:8080/"
        },
        "id": "pfl9jlqsGKsg",
        "outputId": "54f61082-91df-4f5f-dc09-907f5c865230"
      },
      "execution_count": null,
      "outputs": [
        {
          "output_type": "stream",
          "name": "stdout",
          "text": [
            "Epoch 1/5\n",
            "600/600 [==============================] - 13s 7ms/step - loss: 0.1318 - accuracy: 0.9590 - val_loss: 0.0454 - val_accuracy: 0.9840\n",
            "Epoch 2/5\n",
            "600/600 [==============================] - 4s 6ms/step - loss: 0.0394 - accuracy: 0.9876 - val_loss: 0.0301 - val_accuracy: 0.9911\n",
            "Epoch 3/5\n",
            "600/600 [==============================] - 4s 6ms/step - loss: 0.0261 - accuracy: 0.9918 - val_loss: 0.0235 - val_accuracy: 0.9909\n",
            "Epoch 4/5\n",
            "600/600 [==============================] - 4s 6ms/step - loss: 0.0192 - accuracy: 0.9940 - val_loss: 0.0263 - val_accuracy: 0.9918\n",
            "Epoch 5/5\n",
            "600/600 [==============================] - 4s 6ms/step - loss: 0.0154 - accuracy: 0.9950 - val_loss: 0.0364 - val_accuracy: 0.9887\n"
          ]
        },
        {
          "output_type": "execute_result",
          "data": {
            "text/plain": [
              "<keras.callbacks.History at 0x7ffab1699410>"
            ]
          },
          "metadata": {},
          "execution_count": 20
        }
      ]
    },
    {
      "cell_type": "code",
      "source": [
        "#model train and test scores\n",
        "model.evaluate(xtrain,y_train),model.evaluate(xtest,y_test)"
      ],
      "metadata": {
        "id": "Upl7JPZfHpLC",
        "outputId": "072b16d9-d35f-4f01-ac46-23699d93a9d3",
        "colab": {
          "base_uri": "https://localhost:8080/"
        }
      },
      "execution_count": null,
      "outputs": [
        {
          "output_type": "stream",
          "name": "stdout",
          "text": [
            "1875/1875 [==============================] - 6s 3ms/step - loss: 0.0222 - accuracy: 0.9929\n",
            "313/313 [==============================] - 1s 4ms/step - loss: 0.0364 - accuracy: 0.9887\n"
          ]
        },
        {
          "output_type": "execute_result",
          "data": {
            "text/plain": [
              "([0.02224162593483925, 0.9929166436195374],\n",
              " [0.03642405942082405, 0.9886999726295471])"
            ]
          },
          "metadata": {},
          "execution_count": 21
        }
      ]
    },
    {
      "cell_type": "markdown",
      "source": [
        "# Sources\n",
        "\n",
        "https://medium.com/tebs-lab/how-to-classify-mnist-digits-with-different-neural-network-architectures-39c75a0f03e3#id_token=eyJhbGciOiJSUzI1NiIsImtpZCI6IjI2NTBhMmNlNDdiMWFiM2JhNDA5OTc5N2Y4YzA2ZWJjM2RlOTI4YWMiLCJ0eXAiOiJKV1QifQ.eyJpc3MiOiJodHRwczovL2FjY291bnRzLmdvb2dsZS5jb20iLCJuYmYiOjE2NTYxNDczNTQsImF1ZCI6IjIxNjI5NjAzNTgzNC1rMWs2cWUwNjBzMnRwMmEyamFtNGxqZGNtczAwc3R0Zy5hcHBzLmdvb2dsZXVzZXJjb250ZW50LmNvbSIsInN1YiI6IjExNDc2NDAxMDcxMjgwODQ3MzMzOCIsImVtYWlsIjoibmsuc2hhaGFiaTc5QGdtYWlsLmNvbSIsImVtYWlsX3ZlcmlmaWVkIjp0cnVlLCJhenAiOiIyMTYyOTYwMzU4MzQtazFrNnFlMDYwczJ0cDJhMmphbTRsamRjbXMwMHN0dGcuYXBwcy5nb29nbGV1c2VyY29udGVudC5jb20iLCJuYW1lIjoiTmlrYSBTaGFoYWJpIiwicGljdHVyZSI6Imh0dHBzOi8vbGgzLmdvb2dsZXVzZXJjb250ZW50LmNvbS9hL0FBVFhBSnhaeEtwV1lFaWhLOGk1amM0dkJVWHh1SUV3TUE4dEFmMkkyektQPXM5Ni1jIiwiZ2l2ZW5fbmFtZSI6Ik5pa2EiLCJmYW1pbHlfbmFtZSI6IlNoYWhhYmkiLCJpYXQiOjE2NTYxNDc2NTQsImV4cCI6MTY1NjE1MTI1NCwianRpIjoiMDU3YjFmZDZmNjY0Yzg2Mzg2ZDgyODE5NjMwNzU4NTM3NDA5MDRiZCJ9.K8eoMx8lc7QHz62s6GVy_x-Xaif2BnamMwrlX_wWuQTEJCPdk6CZ1OtFPwO9LnE8DDAbCGKoh9qMN7X8SZeohwc27w-tG8vMj5uSGXh4SGAZla_xTTRrNK8ayW_BDF3VxaA7vKStlF44fA_G2fY6sEQ-P_DGhTvBVRliO1oYY5hsiFT2OxCxgnj4o6o6-fzOMrOQDWLgfwvPKRqnipRIgsSc3roIzpEMCtlFPyXvUdMf0YuSd9CvDgevJmBdVTkMuHADwPLoNrP8TUzmtdCiM_u9ZRnGUwUoNG5BsZLqj17SUBqHMdxVN1_bbTJPoOHkgnnH2C08VDL7MLzjzYQ6AQ\n",
        "\n",
        "\n",
        "\n",
        "https://machinelearningmastery.com/how-to-develop-a-convolutional-neural-network-from-scratch-for-mnist-handwritten-digit-classification/\n",
        "\n",
        "https://machinelearningmastery.com/tensorflow-tutorial-deep-learning-with-tf-keras/"
      ],
      "metadata": {
        "id": "KIW_pTHn9IHr"
      }
    },
    {
      "cell_type": "code",
      "source": [
        ""
      ],
      "metadata": {
        "id": "lOB_-vFY8Nut"
      },
      "execution_count": null,
      "outputs": []
    }
  ],
  "metadata": {
    "colab": {
      "name": "MNIST with NN.ipynb",
      "provenance": []
    },
    "kernelspec": {
      "display_name": "Python 3",
      "name": "python3"
    },
    "language_info": {
      "name": "python"
    },
    "accelerator": "GPU",
    "gpuClass": "standard"
  },
  "nbformat": 4,
  "nbformat_minor": 0
}